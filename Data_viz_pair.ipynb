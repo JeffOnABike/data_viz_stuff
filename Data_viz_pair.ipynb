{
 "cells": [
  {
   "cell_type": "code",
   "execution_count": 83,
   "metadata": {
    "collapsed": true
   },
   "outputs": [],
   "source": [
    "import pandas as pd\n",
    "import matplotlib.pyplot as plt\n",
    "import seaborn as sns\n",
    "%matplotlib inline\n",
    "df = pd.read_csv('Mobile_Food_Facility_Permit.csv')"
   ]
  },
  {
   "cell_type": "code",
   "execution_count": 84,
   "metadata": {
    "collapsed": false
   },
   "outputs": [
    {
     "data": {
      "text/plain": [
       "733"
      ]
     },
     "execution_count": 84,
     "metadata": {},
     "output_type": "execute_result"
    }
   ],
   "source": [
    "len(df.locationid.unique())"
   ]
  },
  {
   "cell_type": "code",
   "execution_count": 85,
   "metadata": {
    "collapsed": false
   },
   "outputs": [
    {
     "name": "stdout",
     "output_type": "stream",
     "text": [
      "<class 'pandas.core.frame.DataFrame'>\n",
      "Int64Index: 733 entries, 0 to 732\n",
      "Data columns (total 24 columns):\n",
      "locationid             733 non-null int64\n",
      "Applicant              733 non-null object\n",
      "FacilityType           727 non-null object\n",
      "cnn                    733 non-null int64\n",
      "LocationDescription    695 non-null object\n",
      "Address                732 non-null object\n",
      "blocklot               723 non-null object\n",
      "block                  723 non-null object\n",
      "lot                    723 non-null object\n",
      "permit                 733 non-null object\n",
      "Status                 733 non-null object\n",
      "FoodItems              730 non-null object\n",
      "X                      674 non-null float64\n",
      "Y                      674 non-null float64\n",
      "Latitude               674 non-null float64\n",
      "Longitude              674 non-null float64\n",
      "Schedule               733 non-null object\n",
      "dayshours              704 non-null object\n",
      "NOISent                4 non-null object\n",
      "Approved               606 non-null object\n",
      "Received               733 non-null object\n",
      "PriorPermit            733 non-null int64\n",
      "ExpirationDate         669 non-null object\n",
      "Location               674 non-null object\n",
      "dtypes: float64(4), int64(3), object(17)\n",
      "memory usage: 143.2+ KB\n"
     ]
    }
   ],
   "source": [
    "df.info()"
   ]
  },
  {
   "cell_type": "markdown",
   "metadata": {},
   "source": [
    "Dropping unnec colums.  Convert to DT"
   ]
  },
  {
   "cell_type": "code",
   "execution_count": 86,
   "metadata": {
    "collapsed": false
   },
   "outputs": [
    {
     "data": {
      "text/plain": [
       "array(['REQUESTED', 'SUSPEND', 'EXPIRED', 'APPROVED', 'INACTIVE'], dtype=object)"
      ]
     },
     "execution_count": 86,
     "metadata": {},
     "output_type": "execute_result"
    }
   ],
   "source": [
    "df.Status.unique()"
   ]
  },
  {
   "cell_type": "code",
   "execution_count": 217,
   "metadata": {
    "collapsed": false
   },
   "outputs": [
    {
     "data": {
      "text/plain": [
       "Status\n",
       "APPROVED     512\n",
       "EXPIRED       90\n",
       "INACTIVE       1\n",
       "REQUESTED    126\n",
       "SUSPEND        4\n",
       "Name: Applicant, dtype: int64"
      ]
     },
     "execution_count": 217,
     "metadata": {},
     "output_type": "execute_result"
    }
   ],
   "source": [
    "for colname in ['Received', 'ExpirationDate', 'Approved']:\n",
    "    df[colname] = pd.to_datetime(df[colname])\n",
    "# df.replace(['REQUESTED', 'SUSPEND', 'EXPIRED', 'APPROVED', 'INACTIVE']\n",
    "# df.info()\n",
    "df.groupby('Status').count()['Applicant']"
   ]
  },
  {
   "cell_type": "code",
   "execution_count": 88,
   "metadata": {
    "collapsed": false
   },
   "outputs": [],
   "source": [
    "df.drop(['X','Y', 'NOISent','locationid', 'cnn', 'LocationDescription', 'blocklot', 'block', 'lot', 'permit', 'Schedule'], axis = 1, inplace = True)\n",
    "df.drop('dayshours', axis =  1, inplace = True)\n",
    "df.drop('Location', axis = 1, inplace =True)"
   ]
  },
  {
   "cell_type": "markdown",
   "metadata": {},
   "source": [
    "Things to explore:\n",
    "\n",
    "number of open permits(not expired) at any point in time?\n",
    "counts of food items per cart/truck\n",
    "\n",
    "things to show:\n",
    "\n",
    "dates/locations of new carts by lat/long"
   ]
  },
  {
   "cell_type": "code",
   "execution_count": 89,
   "metadata": {
    "collapsed": false
   },
   "outputs": [
    {
     "data": {
      "text/html": [
       "<div>\n",
       "<table border=\"1\" class=\"dataframe\">\n",
       "  <thead>\n",
       "    <tr style=\"text-align: right;\">\n",
       "      <th></th>\n",
       "      <th>Applicant</th>\n",
       "      <th>Address</th>\n",
       "      <th>Status</th>\n",
       "      <th>FoodItems</th>\n",
       "      <th>Latitude</th>\n",
       "      <th>Longitude</th>\n",
       "      <th>Approved</th>\n",
       "      <th>Received</th>\n",
       "      <th>PriorPermit</th>\n",
       "      <th>ExpirationDate</th>\n",
       "    </tr>\n",
       "    <tr>\n",
       "      <th>FacilityType</th>\n",
       "      <th></th>\n",
       "      <th></th>\n",
       "      <th></th>\n",
       "      <th></th>\n",
       "      <th></th>\n",
       "      <th></th>\n",
       "      <th></th>\n",
       "      <th></th>\n",
       "      <th></th>\n",
       "      <th></th>\n",
       "    </tr>\n",
       "  </thead>\n",
       "  <tbody>\n",
       "    <tr>\n",
       "      <th>Push Cart</th>\n",
       "      <td>69</td>\n",
       "      <td>69</td>\n",
       "      <td>69</td>\n",
       "      <td>69</td>\n",
       "      <td>66</td>\n",
       "      <td>66</td>\n",
       "      <td>43</td>\n",
       "      <td>69</td>\n",
       "      <td>69</td>\n",
       "      <td>52</td>\n",
       "    </tr>\n",
       "    <tr>\n",
       "      <th>Truck</th>\n",
       "      <td>657</td>\n",
       "      <td>656</td>\n",
       "      <td>657</td>\n",
       "      <td>654</td>\n",
       "      <td>601</td>\n",
       "      <td>601</td>\n",
       "      <td>562</td>\n",
       "      <td>657</td>\n",
       "      <td>657</td>\n",
       "      <td>616</td>\n",
       "    </tr>\n",
       "    <tr>\n",
       "      <th>Unknown</th>\n",
       "      <td>1</td>\n",
       "      <td>1</td>\n",
       "      <td>1</td>\n",
       "      <td>1</td>\n",
       "      <td>1</td>\n",
       "      <td>1</td>\n",
       "      <td>0</td>\n",
       "      <td>1</td>\n",
       "      <td>1</td>\n",
       "      <td>0</td>\n",
       "    </tr>\n",
       "  </tbody>\n",
       "</table>\n",
       "</div>"
      ],
      "text/plain": [
       "              Applicant  Address  Status  FoodItems  Latitude  Longitude  \\\n",
       "FacilityType                                                               \n",
       "Push Cart            69       69      69         69        66         66   \n",
       "Truck               657      656     657        654       601        601   \n",
       "Unknown               1        1       1          1         1          1   \n",
       "\n",
       "              Approved  Received  PriorPermit  ExpirationDate  \n",
       "FacilityType                                                   \n",
       "Push Cart           43        69           69              52  \n",
       "Truck              562       657          657             616  \n",
       "Unknown              0         1            1               0  "
      ]
     },
     "execution_count": 89,
     "metadata": {},
     "output_type": "execute_result"
    }
   ],
   "source": [
    "df.groupby('FacilityType').count()"
   ]
  },
  {
   "cell_type": "code",
   "execution_count": 216,
   "metadata": {
    "collapsed": false,
    "scrolled": true
   },
   "outputs": [
    {
     "data": {
      "image/png": "[encoded data removed]",
      "text/plain": [
       "<matplotlib.figure.Figure at 0x10fabe810>"
      ]
     },
     "metadata": {},
     "output_type": "display_data"
    }
   ],
   "source": [
    "plt.figure(figsize=(12,6))\n",
    "sns.distplot(df.groupby('Applicant').count()['Address'])\n",
    "plt.xlabel('Number of Permits')\n",
    "plt.ylabel('Frequency')\n",
    "plt.title('How Many Locations per Business')\n",
    "plt.show()"
   ]
  },
  {
   "cell_type": "code",
   "execution_count": 215,
   "metadata": {
    "collapsed": false
   },
   "outputs": [
    {
     "data": {
      "image/png": "[encoded data removed]",
      "text/plain": [
       "<matplotlib.figure.Figure at 0x1106634d0>"
      ]
     },
     "metadata": {},
     "output_type": "display_data"
    }
   ],
   "source": [
    "def item_counter(x):\n",
    "    x = str(x)\n",
    "#     print type(x)\n",
    "    if str(x).count('.') > 1:\n",
    "        x = x.replace('.', ':')\n",
    "        x = x[:len(x)-1] \n",
    "    return len(x.split(':'))\n",
    "df['n_items']= df['FoodItems'].apply(item_counter)\n",
    "plt.figure(figsize=(12,6))\n",
    "plt.subplot(1,2,1)\n",
    "sns.boxplot(x='Status', y='n_items', data=df)\n",
    "plt.title('Number of Item offered by Permit Status')\n",
    "plt.subplot(1,2,2)\n",
    "sns.boxplot(x='FacilityType', y='n_items', data=df)\n",
    "plt.title('Number of Item offered by FacilityType')\n",
    "plt.tight_layout()\n",
    "plt.show()"
   ]
  },
  {
   "cell_type": "code",
   "execution_count": 212,
   "metadata": {
    "collapsed": false
   },
   "outputs": [],
   "source": [
    "df_copy = df.copy()\n",
    "df_copy[df_copy['Received'].isnull()]\n",
    "df_copy.set_index('Received', inplace=True, drop=False)\n",
    "df_copy = df_copy[df_copy['Status'] == 'APPROVED']\n",
    "df_copy['ones'] = 1\n",
    "df_copy = df_copy.resample('M', how='sum')\n",
    "df_copy.fillna(value=0, inplace=True)\n",
    "# df_copy.head()"
   ]
  },
  {
   "cell_type": "code",
   "execution_count": 211,
   "metadata": {
    "collapsed": false
   },
   "outputs": [
    {
     "data": {
      "image/png": "[encoded data removed]",
      "text/plain": [
       "<matplotlib.figure.Figure at 0x10f27d650>"
      ]
     },
     "metadata": {},
     "output_type": "display_data"
    }
   ],
   "source": [
    "\n",
    "df_copy.fillna(value=0, inplace=True)\n",
    "plt.figure(figsize=(12,6))\n",
    "ax = sns.barplot(x=df_copy.index, y=\"ones\", data=df_copy)\n",
    "plt.xlabel('Month')\n",
    "plt.ylabel('Approved Trucks')\n",
    "x_labels = ['%s-%s' % (x.month, x.year) for x in df_copy.index.date]\n",
    "plt.xticks(rotation=90)\n",
    "ax.set_xticklabels(x_labels)\n",
    "plt.title('Approved Trucks by Month, SF')\n",
    "plt.show()"
   ]
  },
  {
   "cell_type": "code",
   "execution_count": 208,
   "metadata": {
    "collapsed": false
   },
   "outputs": [
    {
     "data": {
      "text/html": [
       "<div>\n",
       "<table border=\"1\" class=\"dataframe\">\n",
       "  <thead>\n",
       "    <tr style=\"text-align: right;\">\n",
       "      <th></th>\n",
       "      <th>Applicant</th>\n",
       "      <th>FacilityType</th>\n",
       "      <th>Address</th>\n",
       "      <th>Status</th>\n",
       "      <th>FoodItems</th>\n",
       "      <th>Latitude</th>\n",
       "      <th>Longitude</th>\n",
       "      <th>Approved</th>\n",
       "      <th>Received</th>\n",
       "      <th>PriorPermit</th>\n",
       "      <th>ExpirationDate</th>\n",
       "      <th>n_items</th>\n",
       "    </tr>\n",
       "  </thead>\n",
       "  <tbody>\n",
       "    <tr>\n",
       "      <th>0</th>\n",
       "      <td>Bombay Blvd.</td>\n",
       "      <td>Truck</td>\n",
       "      <td>50 MAIN ST</td>\n",
       "      <td>REQUESTED</td>\n",
       "      <td>Indian Style: BBQ: Variety of Curries: Rice: W...</td>\n",
       "      <td>NaN</td>\n",
       "      <td>NaN</td>\n",
       "      <td>NaT</td>\n",
       "      <td>2011-03-07 16:11:00</td>\n",
       "      <td>0</td>\n",
       "      <td>NaT</td>\n",
       "      <td>14</td>\n",
       "    </tr>\n",
       "    <tr>\n",
       "      <th>1</th>\n",
       "      <td>Bombay Blvd.</td>\n",
       "      <td>Truck</td>\n",
       "      <td>333 MARKET ST</td>\n",
       "      <td>REQUESTED</td>\n",
       "      <td>Indian Style: BBQ: Variety of Curries: Rice: W...</td>\n",
       "      <td>37.791778</td>\n",
       "      <td>-122.397517</td>\n",
       "      <td>NaT</td>\n",
       "      <td>2011-03-07 16:11:00</td>\n",
       "      <td>0</td>\n",
       "      <td>NaT</td>\n",
       "      <td>14</td>\n",
       "    </tr>\n",
       "    <tr>\n",
       "      <th>2</th>\n",
       "      <td>Bombay Blvd.</td>\n",
       "      <td>Truck</td>\n",
       "      <td>561 MISSION ST</td>\n",
       "      <td>REQUESTED</td>\n",
       "      <td>Indian Style: BBQ: Variety of Curries: Rice: W...</td>\n",
       "      <td>NaN</td>\n",
       "      <td>NaN</td>\n",
       "      <td>NaT</td>\n",
       "      <td>2011-03-07 16:38:00</td>\n",
       "      <td>0</td>\n",
       "      <td>NaT</td>\n",
       "      <td>14</td>\n",
       "    </tr>\n",
       "    <tr>\n",
       "      <th>3</th>\n",
       "      <td>Bombay Blvd.</td>\n",
       "      <td>Truck</td>\n",
       "      <td>86 03RD ST</td>\n",
       "      <td>REQUESTED</td>\n",
       "      <td>Indian Style: BBQ: Variety of Curries: Rice: W...</td>\n",
       "      <td>37.786206</td>\n",
       "      <td>-122.402532</td>\n",
       "      <td>NaT</td>\n",
       "      <td>2011-03-07 16:38:00</td>\n",
       "      <td>0</td>\n",
       "      <td>NaT</td>\n",
       "      <td>14</td>\n",
       "    </tr>\n",
       "    <tr>\n",
       "      <th>4</th>\n",
       "      <td>Sausage Slinger</td>\n",
       "      <td>Push Cart</td>\n",
       "      <td>100 NEW MONTGOMERY ST</td>\n",
       "      <td>SUSPEND</td>\n",
       "      <td>Hot Dogs: Chips and Soda</td>\n",
       "      <td>37.787042</td>\n",
       "      <td>-122.400427</td>\n",
       "      <td>NaT</td>\n",
       "      <td>2011-04-11 11:15:00</td>\n",
       "      <td>0</td>\n",
       "      <td>2013-03-15</td>\n",
       "      <td>2</td>\n",
       "    </tr>\n",
       "  </tbody>\n",
       "</table>\n",
       "</div>"
      ],
      "text/plain": [
       "         Applicant FacilityType                Address     Status  \\\n",
       "0     Bombay Blvd.        Truck             50 MAIN ST  REQUESTED   \n",
       "1     Bombay Blvd.        Truck          333 MARKET ST  REQUESTED   \n",
       "2     Bombay Blvd.        Truck         561 MISSION ST  REQUESTED   \n",
       "3     Bombay Blvd.        Truck             86 03RD ST  REQUESTED   \n",
       "4  Sausage Slinger    Push Cart  100 NEW MONTGOMERY ST    SUSPEND   \n",
       "\n",
       "                                           FoodItems   Latitude   Longitude  \\\n",
       "0  Indian Style: BBQ: Variety of Curries: Rice: W...        NaN         NaN   \n",
       "1  Indian Style: BBQ: Variety of Curries: Rice: W...  37.791778 -122.397517   \n",
       "2  Indian Style: BBQ: Variety of Curries: Rice: W...        NaN         NaN   \n",
       "3  Indian Style: BBQ: Variety of Curries: Rice: W...  37.786206 -122.402532   \n",
       "4                           Hot Dogs: Chips and Soda  37.787042 -122.400427   \n",
       "\n",
       "  Approved            Received  PriorPermit ExpirationDate  n_items  \n",
       "0      NaT 2011-03-07 16:11:00            0            NaT       14  \n",
       "1      NaT 2011-03-07 16:11:00            0            NaT       14  \n",
       "2      NaT 2011-03-07 16:38:00            0            NaT       14  \n",
       "3      NaT 2011-03-07 16:38:00            0            NaT       14  \n",
       "4      NaT 2011-04-11 11:15:00            0     2013-03-15        2  "
      ]
     },
     "execution_count": 208,
     "metadata": {},
     "output_type": "execute_result"
    }
   ],
   "source": [
    "df_clean = df[df['FacilityType'].isin(['Push Cart', 'Truck'])] # remove unknown Facility Types (7 permits)\n",
    "df_clean.head()"
   ]
  },
  {
   "cell_type": "code",
   "execution_count": 209,
   "metadata": {
    "collapsed": true
   },
   "outputs": [],
   "source": [
    "df_clean.to_csv('output_clean.csv')"
   ]
  },
  {
   "cell_type": "markdown",
   "metadata": {},
   "source": [
    "http://bit.ly/1RffSLa"
   ]
  }
 ],
 "metadata": {
  "kernelspec": {
   "display_name": "Python 2",
   "language": "python",
   "name": "python2"
  },
  "language_info": {
   "codemirror_mode": {
    "name": "ipython",
    "version": 2
   },
   "file_extension": ".py",
   "mimetype": "text/x-python",
   "name": "python",
   "nbconvert_exporter": "python",
   "pygments_lexer": "ipython2",
   "version": "2.7.10"
  }
 },
 "nbformat": 4,
 "nbformat_minor": 0
}
